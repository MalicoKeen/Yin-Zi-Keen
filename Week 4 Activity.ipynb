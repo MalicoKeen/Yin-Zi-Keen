{
 "cells": [
  {
   "cell_type": "markdown",
   "id": "fb14cd2a",
   "metadata": {},
   "source": [
    "# Activity 1"
   ]
  },
  {
   "cell_type": "code",
   "execution_count": 18,
   "id": "86ebf6a3",
   "metadata": {},
   "outputs": [
    {
     "name": "stdout",
     "output_type": "stream",
     "text": [
      "Requirement already satisfied: opencv-python in d:\\anaconda\\lib\\site-packages (4.6.0.66)\n",
      "Requirement already satisfied: numpy>=1.17.3 in d:\\anaconda\\lib\\site-packages (from opencv-python) (1.20.1)\n"
     ]
    }
   ],
   "source": [
    "!pip install opencv-python"
   ]
  },
  {
   "cell_type": "code",
   "execution_count": 19,
   "id": "27d1a4ad",
   "metadata": {},
   "outputs": [
    {
     "data": {
      "text/plain": [
       "True"
      ]
     },
     "execution_count": 19,
     "metadata": {},
     "output_type": "execute_result"
    }
   ],
   "source": [
    "import sys\n",
    "# Python 3.7 is required\n",
    "assert sys.version_info >= (3,7)\n",
    "\n",
    "import cv2 as cv\n",
    "import numpy as np\n",
    "\n",
    "# For reproducibility,\n",
    "np.random.seed(99)\n",
    "\n",
    "# Make sure that optimization is enabled\n",
    "if not cv.useOptimized():\n",
    "    cv.setUseOptimized(True)\n",
    "\n",
    "cv.useOptimized()"
   ]
  },
  {
   "cell_type": "code",
   "execution_count": 23,
   "id": "72872145",
   "metadata": {},
   "outputs": [],
   "source": [
    "#Display first image separately\n",
    "img_dog = cv.imread('C:/Users/User/Downloads/Week 4 Activity/dog.jfif')\n",
    "cv.imshow('JFIF image', img_dog)\n",
    "cv.waitKey(0)\n",
    "cv.destroyAllWindows()"
   ]
  },
  {
   "cell_type": "code",
   "execution_count": 69,
   "id": "137b7537",
   "metadata": {},
   "outputs": [],
   "source": [
    "#Display second image separately\n",
    "img_grey = cv.imread('C:/Users/User/Downloads/Week 4 Activity/dogGrey.jpg')\n",
    "cv.imshow('JPG image', img_grey)\n",
    "cv.waitKey(0)\n",
    "cv.destroyAllWindows()"
   ]
  },
  {
   "cell_type": "code",
   "execution_count": 71,
   "id": "9819bb3d",
   "metadata": {},
   "outputs": [],
   "source": [
    "#Slicing\n",
    "arr_slice=img_grey[2:500,10:500]\n",
    "\n",
    "\n",
    "#1st method : resizing -> concatenate horizontally\n",
    "\n",
    "img_dog = cv.imread('C:/Users/User/Downloads/Week 4 Activity/dog.jfif')\n",
    "img_resize=cv.resize(arr_slice,(275,168),interpolation = cv.INTER_LINEAR)\n",
    "Hori = np.concatenate((img_resize, img_dog), axis=1)\n",
    "cv.imshow('First Method', Hori)\n",
    "cv.waitKey(0)\n",
    "cv.destroyAllWindows()"
   ]
  },
  {
   "cell_type": "code",
   "execution_count": 72,
   "id": "f9452c2f",
   "metadata": {},
   "outputs": [],
   "source": [
    "#2nd method : resizing -> positioning\n",
    "\n",
    "img_resize2=cv.resize(arr_slice,(90,80),interpolation = cv.INTER_LINEAR)\n",
    "img_dog[-80:,-90:]=img_resize2\n",
    "\n",
    "cv.imshow('Second Method',img_dog)\n",
    "cv.waitKey(0)\n",
    "cv.destroyAllWindows()"
   ]
  },
  {
   "cell_type": "markdown",
   "id": "e2a63cbc",
   "metadata": {},
   "source": [
    "# Activity 2"
   ]
  },
  {
   "cell_type": "code",
   "execution_count": 78,
   "id": "0f96e0d0",
   "metadata": {},
   "outputs": [],
   "source": [
    "#Display img_pexels wih width 400 and height 520\n",
    "\n",
    "\n",
    "cap = cv.VideoCapture('C:/Users/User/Downloads/Week 4 Activity/img_pexels.mp4')\n",
    "\n",
    "# Define the codec and create VideoWriter object\n",
    "fourcc = cv.VideoWriter_fourcc('M', 'J', 'P', 'G')\n",
    "#Save video in the format of avi\n",
    "#set fps to 20\n",
    "out = cv.VideoWriter('C:/Users/User/Downloads/Week 4 Activity/smaller_img_pexels.avi', fourcc, 20, (400, 520))\n",
    "\n",
    "\n",
    "# Check if the object has been created successfully\n",
    "if not cap.isOpened():\n",
    "    print(\"Unable to create video\")\n",
    "\n",
    "# Read until the video is completed.\n",
    "while cap.isOpened():\n",
    "    ret, frame = cap.read()\n",
    "    \n",
    "    # if frame is read then ret is True\n",
    "    if not ret:\n",
    "        print(\"Can't receive frame.\")\n",
    "        break\n",
    "    \n",
    "    video=cv.resize(frame,(400,520),fx=0,fy=0, interpolation = cv.INTER_CUBIC)\n",
    "    cv.imshow('New frame size', video)\n",
    "    # Press Esc key to exit (27 is ASCII code for Esc). cv.waitKey() returns 32 bit integer values.\n",
    "    if cv.waitKey(1) & 0xFF == 27:\n",
    "        break\n",
    "\n",
    "# destroy the constructor\n",
    "cap.release()\n",
    "out.release()\n",
    "cv.destroyAllWindows()\n",
    "\n",
    "\n"
   ]
  },
  {
   "cell_type": "markdown",
   "id": "47164bef",
   "metadata": {},
   "source": [
    "# Activity 3"
   ]
  },
  {
   "cell_type": "code",
   "execution_count": null,
   "id": "f1452ba4",
   "metadata": {},
   "outputs": [],
   "source": [
    "\n"
   ]
  }
 ],
 "metadata": {
  "kernelspec": {
   "display_name": "Python 3",
   "language": "python",
   "name": "python3"
  },
  "language_info": {
   "codemirror_mode": {
    "name": "ipython",
    "version": 3
   },
   "file_extension": ".py",
   "mimetype": "text/x-python",
   "name": "python",
   "nbconvert_exporter": "python",
   "pygments_lexer": "ipython3",
   "version": "3.8.8"
  }
 },
 "nbformat": 4,
 "nbformat_minor": 5
}
