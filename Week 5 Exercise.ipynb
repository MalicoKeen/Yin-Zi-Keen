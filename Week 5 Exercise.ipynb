{
 "cells": [
  {
   "cell_type": "markdown",
   "id": "23dc7755",
   "metadata": {},
   "source": [
    "## Week 5 activity Q1"
   ]
  },
  {
   "cell_type": "code",
   "execution_count": 1,
   "id": "d87d0f94",
   "metadata": {},
   "outputs": [],
   "source": [
    "\n",
    "import numpy as np\n",
    "import cv2 as cv\n"
   ]
  },
  {
   "cell_type": "code",
   "execution_count": 2,
   "id": "d1662443",
   "metadata": {},
   "outputs": [],
   "source": [
    "def new_crop_grid(img, num_horizontal_grid, num_vertical_grid, line_color):\n",
    "    height, width = img.shape[:2]\n",
    "    \n",
    "    M, N = int(height/num_horizontal_grid), int(width/num_vertical_grid)\n",
    "\n",
    "    x1, y1 = 0, 0\n",
    "\n",
    "    for y in range(0, height, M):\n",
    "        for x in range(0, width, N):\n",
    "\n",
    "            y1 = y + M    # lower right coordinate that will be used to construct rectangle\n",
    "            x1 = x + N\n",
    "\n",
    "            # Check whether patch lower right coordinate exceeds image height and width\n",
    "            if x1 >= width and y1 >= height:\n",
    "                x1 = width - 1\n",
    "                y1 = height - 1\n",
    "                tile = img[y:height, x:width]\n",
    "                cv.rectangle(img, (x, y), (x1, y1), line_color, 1)\n",
    "                cv.imshow('tile', tile)\n",
    "            # When patch lower right y-coordinate exceeds patch height\n",
    "            elif y1 >= height:\n",
    "                y1 = height - 1\n",
    "                cv.rectangle(img, (x, y), (x1, y1), line_color, 1)\n",
    "\n",
    "            # When patch lower right x-coordinate exceeds patch width\n",
    "            elif x1 >= width:\n",
    "                x1 = width - 1\n",
    "                cv.rectangle(img, (x, y), (x1, y1), line_color, 1)\n",
    "\n",
    "            else:\n",
    "                cv.rectangle(img, (x, y), (x1, y1), line_color, 1)\n",
    "\n",
    "    cv.imshow('New Image', img)\n",
    "    cv.waitKey(0)\n",
    "    cv.destroyAllWindows()"
   ]
  },
  {
   "cell_type": "code",
   "execution_count": 3,
   "id": "cfce1bc4",
   "metadata": {},
   "outputs": [],
   "source": [
    "img = cv.imread('C:/Users/User/Downloads/Week 5/dog.jfif')\n",
    "\n",
    "red = (0,0,255)\n",
    "\n",
    "new_crop_grid(img, 2, 3, red)"
   ]
  },
  {
   "cell_type": "markdown",
   "id": "ca45bf19",
   "metadata": {},
   "source": [
    "## Q2\n",
    "### Display image sequences of smooth transition of images"
   ]
  },
  {
   "cell_type": "code",
   "execution_count": 13,
   "id": "b183cc2a",
   "metadata": {},
   "outputs": [],
   "source": [
    "# activity\n",
    "img1 = cv.imread('C:/Users/User/Downloads/Week 5/lena.jpg')\n",
    "img2 = cv.imread('C:/Users/User/Downloads/Week 5/coins.jfif')\n",
    "\n",
    "# Resize img2\n",
    "new_shape = img1.shape[:2]\n",
    "img2 = cv.resize(img2, new_shape)\n",
    "\n",
    "alpha_list = np.linspace(0, 1, num=10)\n",
    "\n",
    "for i, alpha in enumerate(alpha_list):\n",
    "    img_blend = cv.addWeighted(img1, alpha, img2, 1-alpha, 0)\n",
    "    cv.imshow('Transition', img_blend)\n",
    "    cv.waitKey(0)\n",
    "    cv.destroyAllWindows()"
   ]
  },
  {
   "cell_type": "markdown",
   "id": "5e1ca607",
   "metadata": {},
   "source": [
    "## Q3\n",
    "\n",
    "### Rotate image without cropping"
   ]
  },
  {
   "cell_type": "code",
   "execution_count": 22,
   "id": "99be4b3a",
   "metadata": {},
   "outputs": [],
   "source": [
    "img = cv.imread('C:/Users/User/Downloads/Week 5/lena.jfif')\n",
    "rows, cols = img.shape[:2]\n",
    "M = cv.getRotationMatrix2D(((cols-1)/2.0, (rows-1)/2.0), 45, 1.5)\n",
    "dst = cv.warpAffine(img, M, (cols, rows))\n",
    "\n",
    "cv.imshow('Rotated Image', dst)\n",
    "cv.waitKey(0)\n",
    "cv.destroyAllWindows()"
   ]
  },
  {
   "cell_type": "markdown",
   "id": "8f3c9e58",
   "metadata": {},
   "source": [
    "## Q4"
   ]
  },
  {
   "cell_type": "code",
   "execution_count": 36,
   "id": "004ede9e",
   "metadata": {},
   "outputs": [],
   "source": [
    "img1 = cv.imread(\"C:/Users/User/Downloads/Week 5/flower.jfif\",)\n",
    "img2 = cv.imread(\"C:/Users/User/Downloads/Week 5/native-bee.png\")\n",
    "\n",
    "img1_gray = cv.cvtColor(img1,cv.COLOR_RGB2GRAY)\n",
    "img2_roi = img2[:183,:275]\n",
    "\n",
    "ret, mask = cv.threshold(img1_gray, 70, 255, cv.THRESH_BINARY)\n",
    "mask_inv = cv.bitwise_not(mask)\n",
    "\n",
    "# Now black-out the area of flower in the roi\n",
    "roi_mask = cv.bitwise_or(img2_roi,img2_roi,mask=mask_inv)\n",
    "\n",
    "# Take only region of flower from img2\n",
    "roi_flower = cv.bitwise_and(img1,img1,mask=mask)\n",
    "\n",
    "\n",
    "final_roi =cv.add(roi_mask,roi_flower)\n",
    "img2[:183,:275] = final_roi\n",
    "\n",
    "cv.imshow(\"Flower And Bee\",img2)\n",
    "cv.waitKey(0)\n",
    "cv.destroyAllWindows()"
   ]
  }
 ],
 "metadata": {
  "kernelspec": {
   "display_name": "Python 3",
   "language": "python",
   "name": "python3"
  },
  "language_info": {
   "codemirror_mode": {
    "name": "ipython",
    "version": 3
   },
   "file_extension": ".py",
   "mimetype": "text/x-python",
   "name": "python",
   "nbconvert_exporter": "python",
   "pygments_lexer": "ipython3",
   "version": "3.8.8"
  }
 },
 "nbformat": 4,
 "nbformat_minor": 5
}
