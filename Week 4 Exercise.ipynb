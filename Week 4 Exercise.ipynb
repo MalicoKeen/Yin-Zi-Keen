{
 "cells": [
  {
   "cell_type": "code",
   "execution_count": 20,
   "id": "ffa7c1c9",
   "metadata": {},
   "outputs": [],
   "source": [
    "import cv2 as cv\n",
    "import numpy as np\n",
    "import matplotlib.pyplot as plt"
   ]
  },
  {
   "cell_type": "markdown",
   "id": "0eb4eb00",
   "metadata": {},
   "source": [
    "## Activity 1: Show two images simultaneously\n",
    "### Method 1: Through concatenate()"
   ]
  },
  {
   "cell_type": "code",
   "execution_count": 21,
   "id": "67ea16dc",
   "metadata": {},
   "outputs": [],
   "source": [
    "img_rgb = cv.imread('C:/Users/User/Downloads/Week 4/lena.jfif')\n",
    "img_gray = cv.cvtColor(img_rgb.copy(), cv.COLOR_BGR2GRAY)\n",
    "img_grayRGB = cv.cvtColor(img_gray, cv.COLOR_GRAY2BGR)\n",
    "\n",
    "img_final = np.concatenate((img_rgb,img_grayRGB),axis=1)\n",
    "\n",
    "cv.imshow('Color and Scale Image 1', img_final)\n",
    "cv.waitKey(0)\n",
    "cv.destroyAllWindows()"
   ]
  },
  {
   "cell_type": "markdown",
   "id": "e28aee6a",
   "metadata": {},
   "source": [
    "### Method 2: Through Image Slicing"
   ]
  },
  {
   "cell_type": "code",
   "execution_count": 29,
   "id": "a59e5a07",
   "metadata": {},
   "outputs": [],
   "source": [
    "img_rgb = cv.imread('C:/Users/User/Downloads/Week 4/lena.jfif')\n",
    "img_gray = cv.cvtColor(img_rgb.copy(), cv.COLOR_BGR2GRAY)\n",
    "img_grayRGB = cv.cvtColor(img_gray, cv.COLOR_GRAY2BGR)\n",
    "\n",
    "height, width = img_rgb.shape[:2]\n",
    "new_width = width*2\n",
    "\n",
    "img_final = np.zeros((height, new_width, 3), np.uint8)\n",
    "img_final[0:height,0:width] = img_rgb\n",
    "img_final[0:height,width:] = img_grayRGB\n",
    "\n",
    "cv.imshow('Color and Scale Image 2', img_final)\n",
    "cv.waitKey(0)\n",
    "cv.destroyAllWindows()"
   ]
  },
  {
   "cell_type": "markdown",
   "id": "89af8b67",
   "metadata": {},
   "source": [
    "## Activity 2: resize video frames into smaller frame"
   ]
  },
  {
   "cell_type": "code",
   "execution_count": 26,
   "id": "8ca5571f",
   "metadata": {},
   "outputs": [],
   "source": [
    "# Create a VideoCapture object\n",
    "cap = cv.VideoCapture('C:/Users/User/Downloads/Week 4/img_pexels.mp4')\n",
    "\n",
    "# Check if the object has been created successfully\n",
    "if not cap.isOpened():\n",
    "    print(\"Unable to create video\")\n",
    "\n",
    "# Create a VideoWriter object\n",
    "new_width = int(cap.get(3)*0.4)\n",
    "new_height = int(cap.get(4)*0.4)\n",
    "\n",
    "# Define the codec and create VideoWriter object\n",
    "fourcc = cv.VideoWriter_fourcc(*'mp4v')\n",
    "out = cv.VideoWriter('C:/Users/User/Downloads/Week 4/smaller_img_pexels.avi', fourcc, 10, (width, height))\n",
    "\n",
    "# Read until the video is completed.\n",
    "while cap.isOpened():\n",
    "    ret, frame = cap.read()\n",
    "    \n",
    "    # if frame is read then ret is True\n",
    "    if not ret:\n",
    "        print(\"Can't receive frame.\")\n",
    "        break\n",
    "    \n",
    "    resize_frame = cv.resize(frame, (new_width, new_height))\n",
    "    \n",
    "    # write it in video file\n",
    "    out.write(resize_frame)\n",
    "    \n",
    "    cv.imshow('Frame 1', resize_frame)\n",
    "    # Press Esc key to exit (27 is ASCII code for Esc)\n",
    "    if cv.waitKey(1) & 0xFF == 27:\n",
    "        break\n",
    "\n",
    "# destroy the constructor\n",
    "cap.release()\n",
    "out.release()\n",
    "cv.destroyAllWindows()"
   ]
  },
  {
   "cell_type": "markdown",
   "id": "3d8ea1e7",
   "metadata": {},
   "source": [
    "## Activity 3: random noise color and grayscale image"
   ]
  },
  {
   "cell_type": "code",
   "execution_count": 27,
   "id": "1b11f986",
   "metadata": {},
   "outputs": [],
   "source": [
    "from random import randint"
   ]
  },
  {
   "cell_type": "code",
   "execution_count": 31,
   "id": "47a1b057",
   "metadata": {},
   "outputs": [],
   "source": [
    "noise_rgb = np.array([[randint(0, 255),randint(0, 255),randint(0, 255)] for i in range(10000)])\n",
    "rgb =  np.reshape(noise_rgb.astype('uint8'), (100, 100, 3))\n",
    "\n",
    "gray = cv.cvtColor(rgb.copy(), cv.COLOR_BGR2GRAY)\n",
    "\n",
    "\n",
    "cv.imshow('color', rgb)\n",
    "cv.waitKey(0)\n",
    "cv.destroyAllWindows()\n",
    "\n",
    "cv.imshow('gray', gray)\n",
    "cv.waitKey(0)\n",
    "cv.destroyAllWindows()"
   ]
  },
  {
   "cell_type": "markdown",
   "id": "d4f9b86f",
   "metadata": {},
   "source": [
    "## Extract region of interest (flower) from the 'flower.jfif’."
   ]
  },
  {
   "cell_type": "code",
   "execution_count": 44,
   "id": "b648bb8f",
   "metadata": {},
   "outputs": [],
   "source": [
    "img = cv.imread('C:/Users/User/Downloads/Week 4/flower.jfif')"
   ]
  },
  {
   "cell_type": "code",
   "execution_count": 43,
   "id": "7ef34b0f",
   "metadata": {},
   "outputs": [],
   "source": [
    "flower = img[40:120, 90:180]\n",
    "cv.namedWindow('flower', cv.WINDOW_AUTOSIZE)\n",
    "cv.imshow('Flower Extracted', flower)\n",
    "cv.imshow('Original', img)\n",
    "cv.waitKey(0)\n",
    "cv.destroyAllWindows()"
   ]
  }
 ],
 "metadata": {
  "kernelspec": {
   "display_name": "Python 3",
   "language": "python",
   "name": "python3"
  },
  "language_info": {
   "codemirror_mode": {
    "name": "ipython",
    "version": 3
   },
   "file_extension": ".py",
   "mimetype": "text/x-python",
   "name": "python",
   "nbconvert_exporter": "python",
   "pygments_lexer": "ipython3",
   "version": "3.8.8"
  }
 },
 "nbformat": 4,
 "nbformat_minor": 5
}
